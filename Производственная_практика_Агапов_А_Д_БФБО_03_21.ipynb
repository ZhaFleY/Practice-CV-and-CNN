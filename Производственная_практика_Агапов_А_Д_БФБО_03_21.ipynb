{
  "cells": [
    {
      "cell_type": "markdown",
      "metadata": {
        "id": "g14CZyb_0Bcc"
      },
      "source": [
        "# **Импортируем библиотеки**"
      ]
    },
    {
      "cell_type": "code",
      "source": [
        "# !pip install keras"
      ],
      "metadata": {
        "id": "miDTVYjYm5gH"
      },
      "execution_count": 18,
      "outputs": []
    },
    {
      "cell_type": "code",
      "execution_count": 19,
      "metadata": {
        "id": "IwxASka_xVUj"
      },
      "outputs": [],
      "source": [
        "import cv2 \n",
        "import tensorflow as tf\n",
        "from keras.models import Sequential\n",
        "from keras.layers import Conv2D, MaxPooling2D, Flatten, Dense\n",
        "import numpy as np\n",
        "import sklearn\n",
        "from sklearn.model_selection import train_test_split\n",
        "from keras.datasets import mnist\n",
        "from keras.utils import to_categorical\n",
        "from keras.preprocessing import image\n",
        "from tensorflow.keras import layers\n",
        "from tensorflow.keras.preprocessing.image import ImageDataGenerator\n",
        "from PIL import Image\n",
        "import matplotlib.pyplot as plt\n",
        "from tensorflow_datasets.object_detection import wider_face"
      ]
    },
    {
      "cell_type": "markdown",
      "metadata": {
        "id": "elnIK-at3_aT"
      },
      "source": [
        "Для наглядной демонстрации алгоритмов машинного зрения  и нейросетей построю модель для распознавания рукописных цифр\n"
      ]
    },
    {
      "cell_type": "markdown",
      "metadata": {
        "id": "43TaSti_9nvJ"
      },
      "source": [
        "Подключаем гугл диск"
      ]
    },
    {
      "cell_type": "code",
      "execution_count": 20,
      "metadata": {
        "id": "SwTIPxHK9na0",
        "colab": {
          "base_uri": "https://localhost:8080/"
        },
        "outputId": "57363658-01cb-40c2-c075-a4c8a398fe61"
      },
      "outputs": [
        {
          "output_type": "stream",
          "name": "stdout",
          "text": [
            "Drive already mounted at /content/drive; to attempt to forcibly remount, call drive.mount(\"/content/drive\", force_remount=True).\n"
          ]
        }
      ],
      "source": [
        "from google.colab import drive\n",
        "drive.mount('/content/drive')"
      ]
    },
    {
      "cell_type": "markdown",
      "metadata": {
        "id": "idgxbDz-7Azn"
      },
      "source": [
        "Загружаем датасет с набором рукописных цифр\n"
      ]
    },
    {
      "cell_type": "markdown",
      "metadata": {
        "id": "E1TXEFRfAYml"
      },
      "source": [
        "Разделим на обучающую и тестовую выборку"
      ]
    },
    {
      "cell_type": "code",
      "execution_count": 21,
      "metadata": {
        "id": "Bi9hdUFg3nUY"
      },
      "outputs": [],
      "source": [
        "# Загрузка датасета\n",
        "(X_train, y_train), (X_test, y_test) = mnist.load_data()\n",
        "\n",
        "# Преобразование данных и меток классов в нужный формат\n",
        "X_train = X_train.reshape((60000, 28, 28, 1))\n",
        "X_train = X_train.astype('float32') / 255.0\n",
        "y_train = to_categorical(y_train)\n",
        "\n",
        "X_test = X_test.reshape((10000, 28, 28, 1))\n",
        "X_test = X_test.astype('float32') / 255.0\n",
        "y_test = to_categorical(y_test)\n",
        "\n"
      ]
    },
    {
      "cell_type": "markdown",
      "metadata": {
        "id": "-P1Tzoxu_te9"
      },
      "source": [
        "Создаём и обучаем модель"
      ]
    },
    {
      "cell_type": "code",
      "execution_count": 22,
      "metadata": {
        "id": "0rM5W-XaBC8b"
      },
      "outputs": [],
      "source": [
        "# Создание модели\n",
        "model = Sequential()\n",
        "\n",
        "# Добавление сверточных слоев\n",
        "model.add(Conv2D(32, (3, 3), activation='relu', input_shape=(28, 28, 1)))\n",
        "model.add(MaxPooling2D((2, 2)))\n",
        "model.add(Conv2D(64, (3, 3), activation='relu'))\n",
        "model.add(MaxPooling2D((2, 2)))\n",
        "\n",
        "# Добавление слоя сглаживания\n",
        "model.add(Flatten())\n",
        "\n",
        "# Добавление полносвязных слоев\n",
        "model.add(Dense(64, activation='relu'))\n",
        "model.add(Dense(10, activation='softmax'))\n",
        "\n",
        "# Компиляция модели\n",
        "model.compile(optimizer='adam', loss='categorical_crossentropy', metrics=['accuracy'])"
      ]
    },
    {
      "cell_type": "code",
      "execution_count": 23,
      "metadata": {
        "id": "B-hzJEa_PM_s",
        "colab": {
          "base_uri": "https://localhost:8080/"
        },
        "outputId": "c37bb0f4-31ea-418b-b827-c9a4bcf090d2"
      },
      "outputs": [
        {
          "output_type": "stream",
          "name": "stdout",
          "text": [
            "Epoch 1/10\n",
            "1875/1875 [==============================] - 17s 8ms/step - loss: 0.1421 - accuracy: 0.9574 - val_loss: 0.0443 - val_accuracy: 0.9851\n",
            "Epoch 2/10\n",
            "1875/1875 [==============================] - 16s 8ms/step - loss: 0.0476 - accuracy: 0.9851 - val_loss: 0.0324 - val_accuracy: 0.9885\n",
            "Epoch 3/10\n",
            "1875/1875 [==============================] - 10s 5ms/step - loss: 0.0332 - accuracy: 0.9898 - val_loss: 0.0298 - val_accuracy: 0.9887\n",
            "Epoch 4/10\n",
            "1875/1875 [==============================] - 11s 6ms/step - loss: 0.0244 - accuracy: 0.9921 - val_loss: 0.0346 - val_accuracy: 0.9892\n",
            "Epoch 5/10\n",
            "1875/1875 [==============================] - 11s 6ms/step - loss: 0.0175 - accuracy: 0.9943 - val_loss: 0.0306 - val_accuracy: 0.9906\n",
            "Epoch 6/10\n",
            "1875/1875 [==============================] - 10s 5ms/step - loss: 0.0142 - accuracy: 0.9954 - val_loss: 0.0341 - val_accuracy: 0.9905\n",
            "Epoch 7/10\n",
            "1875/1875 [==============================] - 9s 5ms/step - loss: 0.0115 - accuracy: 0.9959 - val_loss: 0.0334 - val_accuracy: 0.9905\n",
            "Epoch 8/10\n",
            "1875/1875 [==============================] - 10s 5ms/step - loss: 0.0095 - accuracy: 0.9969 - val_loss: 0.0357 - val_accuracy: 0.9886\n",
            "Epoch 9/10\n",
            "1875/1875 [==============================] - 9s 5ms/step - loss: 0.0071 - accuracy: 0.9976 - val_loss: 0.0305 - val_accuracy: 0.9923\n",
            "Epoch 10/10\n",
            "1875/1875 [==============================] - 10s 5ms/step - loss: 0.0077 - accuracy: 0.9975 - val_loss: 0.0322 - val_accuracy: 0.9921\n"
          ]
        },
        {
          "output_type": "execute_result",
          "data": {
            "text/plain": [
              "<keras.callbacks.History at 0x7fce30159fc0>"
            ]
          },
          "metadata": {},
          "execution_count": 23
        }
      ],
      "source": [
        "model.fit(X_train, y_train, epochs=10, batch_size=32, validation_data=(X_test, y_test))\n"
      ]
    },
    {
      "cell_type": "code",
      "source": [],
      "metadata": {
        "id": "z0eFS9ILtXlM"
      },
      "execution_count": 23,
      "outputs": []
    },
    {
      "cell_type": "markdown",
      "source": [
        "Можно заметить,что за все эпохи обучения точность модели увеличилась и достигла точности **0.9978**,а **loss** значительно упал."
      ],
      "metadata": {
        "id": "rVNK-j44s_4l"
      }
    },
    {
      "cell_type": "markdown",
      "metadata": {
        "id": "NhLIvX6CQZDe"
      },
      "source": [
        "Загружаем фото"
      ]
    },
    {
      "cell_type": "code",
      "execution_count": 24,
      "metadata": {
        "id": "px_ErjuVP4sz",
        "colab": {
          "base_uri": "https://localhost:8080/",
          "height": 430
        },
        "outputId": "258f4f83-1231-460b-ffc2-f58bde614d33"
      },
      "outputs": [
        {
          "output_type": "display_data",
          "data": {
            "text/plain": [
              "<Figure size 640x480 with 1 Axes>"
            ],
            "image/png": "[encoded data removed]"
          },
          "metadata": {}
        }
      ],
      "source": [
        "# Загрузка изображения цифры 7\n",
        "\n",
        "\n",
        "img = Image.open(\"/content/drive/MyDrive/data_science/digit.png\")\n",
        "\n",
        "\n",
        "# Приведение к черно-белому формату\n",
        "img = img.convert('L')\n",
        "\n",
        "# Изменение размера изображения\n",
        "img = img.resize((28, 28))\n",
        "\n",
        "# Преобразование изображения в массив numpy\n",
        "img_arr = np.array(img)\n",
        "\n",
        "# Изменение формы массива для входных данных модели\n",
        "img_arr = img_arr.reshape(1, 28, 28, 1)\n",
        "\n",
        "#Отобразим цифру которую хотим предсказать\n",
        "plt.imshow(img)\n",
        "plt.show()\n",
        "\n",
        "\n"
      ]
    },
    {
      "cell_type": "markdown",
      "metadata": {
        "id": "PRBMQ29zIR-U"
      },
      "source": [
        "Протестируем нашу модель"
      ]
    },
    {
      "cell_type": "code",
      "source": [
        "pred = model.predict(img_arr)\n",
        "print(f\"Предсказанная цифра: {np.argmax(pred)}\")"
      ],
      "metadata": {
        "id": "C6HS5jQznQBz",
        "colab": {
          "base_uri": "https://localhost:8080/"
        },
        "outputId": "19e7e5f1-75c6-4858-83c9-e9c26a328413"
      },
      "execution_count": 25,
      "outputs": [
        {
          "output_type": "stream",
          "name": "stdout",
          "text": [
            "1/1 [==============================] - 0s 242ms/step\n",
            "Предсказанная цифра: 7\n"
          ]
        }
      ]
    },
    {
      "cell_type": "markdown",
      "source": [
        "**Вывод:** Свёрточная нейросеть отлично справилась с распознаванием цифр."
      ],
      "metadata": {
        "id": "naAhI-TWtk9X"
      }
    }
  ],
  "metadata": {
    "accelerator": "GPU",
    "colab": {
      "provenance": []
    },
    "gpuClass": "standard",
    "kernelspec": {
      "display_name": "Python 3",
      "name": "python3"
    },
    "language_info": {
      "name": "python"
    }
  },
  "nbformat": 4,
  "nbformat_minor": 0
}